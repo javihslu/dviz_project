{
 "cells": [
  {
   "cell_type": "raw",
   "id": "a17c323d",
   "metadata": {},
   "source": [
    "---\n",
    "title: Curiosities of the Solar System\n",
    "subtitle: And how lucky we are\n",
    "author: Teresa Kubacka\n",
    "date: '2023-05-01'\n",
    "abstract: disclaimer; This is not part of an academic research, but a short visual story. The data used has not been verified and has been sourced from third-parties.\n",
    "\n",
    "toc: true\n",
    "format:\n",
    "  html:\n",
    "    code-fold: false\n",
    "    echo: false\n",
    "    self-contained: true\n",
    "    theme:\n",
    "      - journal\n",
    "      - curiosities.scss\n",
    "    fontsize: 14px\n",
    "execute:\n",
    "  enabled: false\n",
    "bibliography: quarto_citations.bib\n",
    "jupyter: python3\n",
    "---"
   ]
  },
  {
   "cell_type": "code",
   "execution_count": 5,
   "id": "adb983f1",
   "metadata": {},
   "outputs": [],
   "source": [
    "import matplotlib.pyplot as plt \n",
    "import plotly.graph_objects as go \n",
    "import pandas as pd \n",
    "import seaborn as sns"
   ]
  },
  {
   "cell_type": "code",
   "execution_count": 6,
   "id": "32249463",
   "metadata": {},
   "outputs": [],
   "source": [
    "# without including this, the plotly charts will not render correctly! \n",
    "# cf. https://quarto.org/docs/interactive/widgets/jupyter.html \n",
    "# and https://plotly.com/python/renderers/#setting-the-default-renderer \n",
    "import plotly.io as pio\n",
    "\n",
    "pio.renderers.default = \"notebook\"\n",
    "\n",
    "# NOTE: as of April 2023, Quarto+Jupyter only works correctly ipynb notebooks created using an environment with plotly<=5.11\n",
    "# if you use plotly>=5.12 in your venv, Plotly charts will not render in quarto documents, \n",
    "# producing error \"plotly.js not found\" and the output may be cropped \n",
    "# tbd: submit an issue to Quarto "
   ]
  },
  {
   "cell_type": "markdown",
   "id": "a970e26e",
   "metadata": {},
   "source": [
    "___ \n",
    "# Curiosities of the Solar System"
   ]
  },
  {
   "cell_type": "markdown",
   "id": "ebdcdd83",
   "metadata": {},
   "source": [
    "## Solar System is huge (Distances, speed of light, )"
   ]
  },
  {
   "cell_type": "markdown",
   "id": "0822fc01",
   "metadata": {},
   "source": []
  },
  {
   "cell_type": "markdown",
   "id": "a84ed280",
   "metadata": {},
   "source": [
    "## Earth is a comfortable place (temps, year length, distances)"
   ]
  },
  {
   "cell_type": "markdown",
   "id": "9b2586d7",
   "metadata": {},
   "source": [
    "## Size and composition of planets depending on distance (size, composition, gravity pull)"
   ]
  },
  {
   "cell_type": "markdown",
   "id": "f578c638",
   "metadata": {},
   "source": [
    "## Comparison Other goldilocks discovered (distances, temps too cold / hot)"
   ]
  },
  {
   "cell_type": "markdown",
   "id": "fce186e4",
   "metadata": {},
   "source": []
  },
  {
   "cell_type": "code",
   "execution_count": null,
   "id": "f4729b93",
   "metadata": {},
   "outputs": [],
   "source": []
  }
 ],
 "metadata": {
  "kernelspec": {
   "display_name": "Python 3 (ipykernel)",
   "language": "python",
   "name": "python3"
  },
  "language_info": {
   "codemirror_mode": {
    "name": "ipython",
    "version": 3
   },
   "file_extension": ".py",
   "mimetype": "text/x-python",
   "name": "python",
   "nbconvert_exporter": "python",
   "pygments_lexer": "ipython3",
   "version": "3.9.16"
  }
 },
 "nbformat": 4,
 "nbformat_minor": 5
}
